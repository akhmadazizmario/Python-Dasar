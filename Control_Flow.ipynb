{
  "nbformat": 4,
  "nbformat_minor": 0,
  "metadata": {
    "colab": {
      "provenance": [],
      "include_colab_link": true
    },
    "kernelspec": {
      "name": "python3",
      "display_name": "Python 3"
    },
    "language_info": {
      "name": "python"
    }
  },
  "cells": [
    {
      "cell_type": "markdown",
      "metadata": {
        "id": "view-in-github",
        "colab_type": "text"
      },
      "source": [
        "<a href=\"https://colab.research.google.com/github/akhmadazizmario/Python-Dasar/blob/master/Control_Flow.ipynb\" target=\"_parent\"><img src=\"https://colab.research.google.com/assets/colab-badge.svg\" alt=\"Open In Colab\"/></a>"
      ]
    },
    {
      "cell_type": "markdown",
      "source": [
        "## IF"
      ],
      "metadata": {
        "id": "KOp--QxSmplr"
      }
    },
    {
      "cell_type": "markdown",
      "source": [
        "Dasar **if**"
      ],
      "metadata": {
        "id": "rglHGa-Bm8-z"
      }
    },
    {
      "cell_type": "code",
      "execution_count": null,
      "metadata": {
        "colab": {
          "base_uri": "https://localhost:8080/"
        },
        "id": "sEzVOB1ama9y",
        "outputId": "7d505368-57ba-4b6a-fc56-a5bb32f750f9"
      },
      "outputs": [
        {
          "output_type": "stream",
          "name": "stdout",
          "text": [
            "Mendapatkan nilai matakuliah A\n"
          ]
        }
      ],
      "source": [
        "nilai = 80\n",
        "\n",
        "if(nilai >= 80):\n",
        "  print(\"Mendapatkan nilai matakuliah A\")"
      ]
    },
    {
      "cell_type": "markdown",
      "source": [
        "Bentuk **if else**"
      ],
      "metadata": {
        "id": "qt4g-0bjnGyb"
      }
    },
    {
      "cell_type": "code",
      "source": [
        "nilai = 80\n",
        "\n",
        "if(nilai >= 80):\n",
        "  print(\"Mendapatkan nilai matakuliah A\")\n",
        "else:\n",
        "  print(\"Anda tidak mendapatkan nilai A\")"
      ],
      "metadata": {
        "id": "1_acih9Nm8Rl"
      },
      "execution_count": null,
      "outputs": []
    },
    {
      "cell_type": "markdown",
      "source": [
        "Bentuk **nested if-else**"
      ],
      "metadata": {
        "id": "Ts5heFFxnJ9F"
      }
    },
    {
      "cell_type": "code",
      "source": [
        "nilai = 80\n",
        "\n",
        "if(nilai >= 80):\n",
        "  print(\"Mendapatkan nilai matakuliah A\")\n",
        "elif(nilai < 80 and nilai >=70):\n",
        "  print(\"Mendapatkan nilai B\")\n",
        "elif(nilai < 70 and nilai >=60):\n",
        "  print(\"Mendapatkan nilai C\")\n",
        "else:\n",
        "  print(\"Anda tidak lulus\")"
      ],
      "metadata": {
        "colab": {
          "base_uri": "https://localhost:8080/"
        },
        "id": "wHTO7EFcnO3P",
        "outputId": "1e951394-9db2-463e-bac8-29e5dfe8ed53"
      },
      "execution_count": null,
      "outputs": [
        {
          "output_type": "stream",
          "name": "stdout",
          "text": [
            "Mendapatkan nilai matakuliah A\n"
          ]
        }
      ]
    },
    {
      "cell_type": "markdown",
      "source": [
        "## Perulangan **for, while**"
      ],
      "metadata": {
        "id": "YmtV6p9rnsnb"
      }
    },
    {
      "cell_type": "markdown",
      "source": [
        "Bentuk for"
      ],
      "metadata": {
        "id": "ZSd-RNsXob7z"
      }
    },
    {
      "cell_type": "code",
      "source": [
        "aljazari = ['muto', 'karlina', 'bela', 'bowo', 'kunci', 'nur']\n",
        "\n",
        "for i in range(len(aljazari)):\n",
        "  print(aljazari[i])"
      ],
      "metadata": {
        "colab": {
          "base_uri": "https://localhost:8080/"
        },
        "id": "3i6l23ZRnsSV",
        "outputId": "0cc107ff-5c9b-4875-e90e-0780453bd316"
      },
      "execution_count": null,
      "outputs": [
        {
          "output_type": "stream",
          "name": "stdout",
          "text": [
            "muto\n",
            "karlina\n",
            "bela\n",
            "bowo\n",
            "kunci\n",
            "nur\n"
          ]
        }
      ]
    },
    {
      "cell_type": "code",
      "source": [
        "for i in range(0,10):\n",
        "  print(i)"
      ],
      "metadata": {
        "colab": {
          "base_uri": "https://localhost:8080/"
        },
        "id": "TJkeSthNoeLb",
        "outputId": "c7ba5117-6c3c-49aa-d521-83b5c25abd5e"
      },
      "execution_count": null,
      "outputs": [
        {
          "output_type": "stream",
          "name": "stdout",
          "text": [
            "0\n",
            "1\n",
            "2\n",
            "3\n",
            "4\n",
            "5\n",
            "6\n",
            "7\n",
            "8\n",
            "9\n"
          ]
        }
      ]
    },
    {
      "cell_type": "markdown",
      "source": [
        "Bentuk while"
      ],
      "metadata": {
        "id": "D4CZ2nikoinz"
      }
    },
    {
      "cell_type": "code",
      "source": [
        "i = 0\n",
        "while (i < 10):\n",
        "  print(i)\n",
        "  i = i+1"
      ],
      "metadata": {
        "colab": {
          "base_uri": "https://localhost:8080/"
        },
        "id": "ZMKeKfT0okCB",
        "outputId": "e6013aed-3a95-4b01-9f96-fc175eb937f2"
      },
      "execution_count": null,
      "outputs": [
        {
          "output_type": "stream",
          "name": "stdout",
          "text": [
            "0\n",
            "1\n",
            "2\n",
            "3\n",
            "4\n",
            "5\n",
            "6\n",
            "7\n",
            "8\n",
            "9\n"
          ]
        }
      ]
    },
    {
      "cell_type": "markdown",
      "source": [
        "### Break, Continue, Pass"
      ],
      "metadata": {
        "id": "0y7KeJMko21p"
      }
    },
    {
      "cell_type": "markdown",
      "source": [
        "Break"
      ],
      "metadata": {
        "id": "cqchAK63pXTl"
      }
    },
    {
      "cell_type": "code",
      "source": [
        "buah = ['apel','mangga','jeruk','durian','apukat']\n",
        "\n",
        "for i in buah:\n",
        "  if (i == 'jeruk'):\n",
        "    break\n",
        "  \n",
        "  print(\"Looping sekarang berada di : \",i)"
      ],
      "metadata": {
        "colab": {
          "base_uri": "https://localhost:8080/"
        },
        "id": "KvqX0dDyo5J4",
        "outputId": "0c1e792f-d3b8-41fa-d3b2-961b7b961ba4"
      },
      "execution_count": null,
      "outputs": [
        {
          "output_type": "stream",
          "name": "stdout",
          "text": [
            "Looping sekarang berada di :  apel\n",
            "Looping sekarang berada di :  mangga\n"
          ]
        }
      ]
    },
    {
      "cell_type": "markdown",
      "source": [
        "Continue"
      ],
      "metadata": {
        "id": "aWvSaW-upYUv"
      }
    },
    {
      "cell_type": "code",
      "source": [
        "buah = ['apel','mangga','jeruk','durian','apukat']\n",
        "\n",
        "for i in buah:\n",
        "  if (i == 'jeruk'):\n",
        "    continue\n",
        "  \n",
        "  print(\"Looping sekarang berada di : \",i)"
      ],
      "metadata": {
        "colab": {
          "base_uri": "https://localhost:8080/"
        },
        "id": "EAkyj5RSpY7a",
        "outputId": "aa5e7d52-144d-467a-afe6-ed900b6570e1"
      },
      "execution_count": null,
      "outputs": [
        {
          "output_type": "stream",
          "name": "stdout",
          "text": [
            "Looping sekarang berada di :  apel\n",
            "Looping sekarang berada di :  mangga\n",
            "Looping sekarang berada di :  durian\n",
            "Looping sekarang berada di :  apukat\n"
          ]
        }
      ]
    },
    {
      "cell_type": "markdown",
      "source": [
        "Pass"
      ],
      "metadata": {
        "id": "noiIB1RSpe6y"
      }
    },
    {
      "cell_type": "code",
      "source": [
        "buah = ['apel','mangga','jeruk','durian','apukat']\n",
        "\n",
        "for i in buah:\n",
        "  if (i == 'jeruk'):\n",
        "    pass\n",
        "  \n",
        "  print(\"Looping sekarang berada di : \",i)"
      ],
      "metadata": {
        "colab": {
          "base_uri": "https://localhost:8080/"
        },
        "id": "Ity06aPFpfiB",
        "outputId": "96116a81-cef9-45d7-e7f1-b55dbcc64db0"
      },
      "execution_count": null,
      "outputs": [
        {
          "output_type": "stream",
          "name": "stdout",
          "text": [
            "Looping sekarang berada di :  apel\n",
            "Looping sekarang berada di :  mangga\n",
            "Looping sekarang berada di :  jeruk\n",
            "Looping sekarang berada di :  durian\n",
            "Looping sekarang berada di :  apukat\n"
          ]
        }
      ]
    }
  ]
}