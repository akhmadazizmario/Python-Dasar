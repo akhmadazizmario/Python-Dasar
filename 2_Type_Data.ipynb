{
  "cells": [
    {
      "cell_type": "markdown",
      "metadata": {
        "id": "view-in-github",
        "colab_type": "text"
      },
      "source": [
        "<a href=\"https://colab.research.google.com/github/akhmadazizmario/Python-Dasar/blob/master/2_Type_Data.ipynb\" target=\"_parent\"><img src=\"https://colab.research.google.com/assets/colab-badge.svg\" alt=\"Open In Colab\"/></a>"
      ]
    },
    {
      "cell_type": "markdown",
      "metadata": {
        "id": "xewposrE9HTW"
      },
      "source": [
        "# Tipe Data\n",
        "Data bisa disebut sebagai inti dari setiap program. Program itu sendiri tidak lain memproses data input untuk menghasilkan data output. Dan untuk bisa memproses itu semua, bahasa pemrograman butuh tipe data.\n",
        "\n",
        "Mengutip dari wikipedia (Data type):\n",
        "\n",
        "“A data type or simply type is a classification of data which tells the compiler or interpreter how the programmer intends to use the data”.\n",
        "\n",
        "Terjemahannya:\n",
        "\n",
        "“Tipe data atau kadang disingkat dengan ‘tipe’ saja adalah sebuah pengelompokan data untuk memberitahu compiler atau interpreter bagaimana programmer ingin mengolah data tersebut”\n",
        "\n",
        "#### Secara sederhana, tipe data adalah cara kita memberitahu komputer untuk mengelompokkan data berdasarkan apa yang dipahami oleh komputer."
      ]
    },
    {
      "cell_type": "markdown",
      "metadata": {
        "id": "_hBODT-A9HTe"
      },
      "source": [
        "Sebagai contoh, misalkan saya memiliki data berupa angka. Agar bisa dipahami oleh interpreter bahasa Python, data ini disimpan ke dalam variabel. Nantinya variabel ini akan diproses sesuai dengan tipe data angka, misalnya bisa ditambah, dikurangi, dibagi, dst. Jika ternyata variabel tersebut berisi teks (string), maka operasi penambahan tidak bisa dilakukan. Setiap jenis tipe data akan memiliki sifat dan fitur masing-masing."
      ]
    },
    {
      "cell_type": "markdown",
      "metadata": {
        "id": "xFeUnIhP9HTf"
      },
      "source": [
        "Jenis-jenis Tipe Data dalam Bahasa Python\n",
        "Dalam bahasa pemrograman Python, terdapat 9 tipe data dasar:\n",
        "\n",
        "1. String\n",
        "2. Integer\n",
        "3. Float\n",
        "4. Complex Number\n",
        "5. Boolean\n",
        "6. List\n",
        "7. Tuple\n",
        "8. Set\n",
        "9. Dictionary"
      ]
    },
    {
      "cell_type": "markdown",
      "metadata": {
        "id": "2QLiUOdr9HTg"
      },
      "source": [
        "# 1. Tipe data: kumpulan karakter (string)\n",
        "\n",
        "Tipe data string adalah tipe data untuk menampung data teks, seperti “Adisyahadi”, “Indonesia”, atau “Saya sedang belajar bahasa Python”.\n",
        "\n",
        "Bahasa Python tidak membatasi jumlah karakter yang ada di dalam string, tapi lebih ke batasan maksimum memory. Jika kita menggunakan interpreter Python 32-bit maksimum karakter adalah sekitar 2 atau 3 milyar karakter (2 – 3GB). Jika menggunakan interpreter Python 64-bit, maka maksimum jumlah karakter menjadi sekitar 63 milyar (63GB). Batasan ini sudah lebih dari cukup."
      ]
    },
    {
      "cell_type": "markdown",
      "metadata": {
        "id": "sYmTbJzy9HTh"
      },
      "source": [
        "# Cara Pembuatan Tipe Data String Python\n",
        "Di dalam bahasa Python, terdapat 3 cara untuk membuat tipe data string:\n",
        "\n",
        "* Menggunakan tanda kutip satu ( ‘ )\n",
        "* Menggunakan tanda kutip dua ( ” )\n",
        "* Menggunakan tanda kutip satu atau dua sebanyak 3 kali ( ‘ ‘ ‘ ) atau (” ” “)\n",
        "#### Note : Cara pertama dan kedua tidak ada perbedaan mendasar dan kita bisa memilih ingin menggunakan yang mana saja."
      ]
    },
    {
      "cell_type": "code",
      "execution_count": null,
      "metadata": {
        "id": "mBz1HMyW9HTh",
        "outputId": "5d9f49ef-98b8-4c2c-f176-a44f4d44bc81"
      },
      "outputs": [
        {
          "name": "stdout",
          "output_type": "stream",
          "text": [
            "Adisyahadi\n",
            "Adisyahadi\n"
          ]
        }
      ],
      "source": [
        "a = \"Adisyahadi\"\n",
        "print(a)\n",
        "b = 'Adisyahadi'\n",
        "print(b)"
      ]
    },
    {
      "cell_type": "markdown",
      "metadata": {
        "id": "dv_fX4319HTj"
      },
      "source": [
        "Untuk menulis karakter khusus seperti tab atau pindah baris, bisa menggunakan escape character, yakni karakter backslash ( \\ ) dan diikuti dengan satu karakter khusus. Sebagai contoh, untuk menulis karakter ‘tab’ bisa dipakai \\t, dan untuk membuat karakter new line (pindah baris) bisa menggunakan tanda \\n:"
      ]
    },
    {
      "cell_type": "code",
      "execution_count": null,
      "metadata": {
        "id": "CncmQa5t9HTk",
        "outputId": "d1ec685a-e7fe-46b9-a298-7acf909506ce"
      },
      "outputs": [
        {
          "name": "stdout",
          "output_type": "stream",
          "text": [
            "Teks ini akan dipecah\n",
            "ke dalam 2 baris\n",
            "Teks ini\n",
            "akan dipecah\tke dalam 3 baris\n"
          ]
        }
      ],
      "source": [
        "volk = \"Teks ini akan dipecah\\nke dalam 2 baris\"\n",
        "print(volk)\n",
        "volk = 'Teks ini\\nakan dipecah\\tke dalam 3 baris'\n",
        "print(volk)"
      ]
    },
    {
      "cell_type": "code",
      "execution_count": null,
      "metadata": {
        "id": "b9C0YX6o9HTl",
        "outputId": "db988f3f-d3ac-40b7-d6e5-2081f8ab3d12"
      },
      "outputs": [
        {
          "name": "stdout",
          "output_type": "stream",
          "text": [
            "data :  ucup\n",
            "bertipe :  <class 'str'>\n"
          ]
        }
      ],
      "source": [
        "data_string = \"ucup\"\n",
        "print(\"data : \", data_string)\n",
        "print(\"bertipe : \", type(data_string))"
      ]
    },
    {
      "cell_type": "markdown",
      "metadata": {
        "id": "IqBC-apd9HTm"
      },
      "source": [
        "Cara pembuatan string menggunakan 3 kali tanda kutip dipakai untuk membuat multiline string, dimana teks yang diinput bisa tersambung ke beberapa baris"
      ]
    },
    {
      "cell_type": "code",
      "execution_count": null,
      "metadata": {
        "id": "fMp1oG7H9HTm",
        "outputId": "2786f09f-5215-4c5f-d181-8ddd6b724a70"
      },
      "outputs": [
        {
          "name": "stdout",
          "output_type": "stream",
          "text": [
            "Teks ini\n",
            "akan dipecah\n",
            "ke dalam 3 baris\n",
            "kasaffjkajfkja\n",
            "kjjjfasfksajfaskjkj\n",
            "hhhhhhhhh\n"
          ]
        }
      ],
      "source": [
        "volk = '''Teks ini\n",
        "akan dipecah\n",
        "ke dalam 3 baris\n",
        "kasaffjkajfkja\n",
        "kjjjfasfksajfaskjkj\n",
        "hhhhhhhhh'''\n",
        "print(volk)"
      ]
    },
    {
      "cell_type": "markdown",
      "metadata": {
        "id": "ayNCN3Tp9HTn"
      },
      "source": [
        "# Operasi Penyambungan String (string concatenation)\n",
        "Salah satu operasi yang sering dipakai ke dalam tipe data string adalah proses penyambungan (string concatenation). Di dalam bahasa Python, operasi ini menggunakan karakter tambah ( + ). Berikut contohnya:"
      ]
    },
    {
      "cell_type": "code",
      "execution_count": null,
      "metadata": {
        "id": "N9wLcrp29HTn",
        "outputId": "174387c4-d98a-44ad-e5ff-833f139eacd6"
      },
      "outputs": [
        {
          "name": "stdout",
          "output_type": "stream",
          "text": [
            "2Bahasa Pemrograman Python di kelas volkerding\n"
          ]
        }
      ],
      "source": [
        "a = '2'\n",
        "b = \"Bahasa Pemrograman Python \"\n",
        "c = \"di kelas volkerding\"\n",
        "hasil = a + b + c\n",
        "print(hasil)"
      ]
    },
    {
      "cell_type": "markdown",
      "metadata": {
        "id": "HxA_oYgk9HTo"
      },
      "source": [
        "------------------------\n",
        "# 2. Tipe data number\n",
        "Dalam bahasa Python, tipe data number terdiri dari 3 jenis:\n",
        "\n",
        "1. Integer (int): Tipe data bilangan bulat, seperti 1, 300, 59000000\n",
        "2. Float: Tipe data bilangan desimal / pecahan, seperti 0.43, 0.0002, 999.99\n",
        "3. Complex Number: Tipe data bilangan kompleks atau bilangan imajiner, seperti 5j, 54j, 1j\n",
        "\n",
        "Dari ketiga tipe data ini, tipe data Complex Number adalah tipe data yang cukup unik dan jarang tersedia di bahasa pemrograman lain.\n",
        "\n",
        "Dalam teori matematika, complex number atau bilangan kompleks atau bilangan imajiner adalah sebutan untuk angka yang mengandung nilai akar kuadrat dari -1. Angka akar kuadrat dari -1 ini ditulis dalam Python dengan huruf j. Bilangan 5j sama artinya dengan 5√-1"
      ]
    },
    {
      "cell_type": "markdown",
      "metadata": {
        "id": "pweOUZx69HTo"
      },
      "source": [
        "### Cara Penggunaan Tipe Data Number Python\n",
        "Sama seperti tipe data lain di dalam Python, kita bisa langsung menginput angka-angka ini ke dalam sebuah variabel. Berikut contohnya:"
      ]
    },
    {
      "cell_type": "code",
      "execution_count": null,
      "metadata": {
        "id": "GDE_GpOo9HTo",
        "outputId": "6bf7c226-0f65-4a54-fb6f-74fa25ea7054"
      },
      "outputs": [
        {
          "name": "stdout",
          "output_type": "stream",
          "text": [
            "ini adalah tipe data : <class 'int'> 100\n",
            "ini adalah tipe data : <class 'float'> 30.23\n",
            "ini adalah tipe data : <class 'complex'> 4j\n"
          ]
        }
      ],
      "source": [
        "a = 100\n",
        "b = 30.23\n",
        "c = 4j\n",
        " \n",
        "print(\"ini adalah tipe data :\",type(a), a)\n",
        "print(\"ini adalah tipe data :\",type(b), b)\n",
        "print(\"ini adalah tipe data :\",type(c), c)"
      ]
    },
    {
      "cell_type": "markdown",
      "metadata": {
        "id": "-TDhvY8s9HTp"
      },
      "source": [
        "Untuk memeriksa tipe data dari sebuah variabel, terdapat function type() bawaan Python. Berikut contoh penggunaannya:"
      ]
    },
    {
      "cell_type": "code",
      "execution_count": null,
      "metadata": {
        "id": "C9tgW4JZ9HTp",
        "outputId": "ef2b6120-86d8-4e51-9a09-0e2a54460e75"
      },
      "outputs": [
        {
          "name": "stdout",
          "output_type": "stream",
          "text": [
            "<class 'int'>\n",
            "<class 'float'>\n",
            "<class 'complex'>\n"
          ]
        }
      ],
      "source": [
        "a = 100\n",
        "b = 30.23\n",
        "c = 4j\n",
        "  \n",
        "print(type(a))\n",
        "print(type(b))\n",
        "print(type(c))"
      ]
    },
    {
      "cell_type": "markdown",
      "metadata": {
        "id": "sMdIH3ug9HTp"
      },
      "source": [
        "===============================================================\n",
        "\n",
        "# Tipe data: biner true/false (boolean)\n",
        "\n",
        "Tipe data boolean sebenarnya sangat simple. Tipe data ini hanya bisa diisi dengan salah satu dari 2 nilai: True atau False. Tipe data boolean banyak dipakai untuk percabangan kode program atau untuk memutuskan apa yang mesti dijalankan ketika sebuah kondisi terjadi."
      ]
    },
    {
      "cell_type": "markdown",
      "metadata": {
        "id": "iW9wyxU49HTp"
      },
      "source": [
        "----------------------------\n",
        "Sebagai contoh, kita bisa membuat kode program untuk menentukan apakah sebuah angka genap atau ganjil berdasarkan input dari pengguna. Untuk keperluan ini kita harus mengecek terlebih dahulu apakah angka tersebut bisa dibagi 2 (untuk angka genap), atau tidak bisa dibagi 2 (untuk angka ganjil). Tipe data boolean bisa dipakai untuk menampung kondisi seperti ini, yakni benar atau salah (True atau False)."
      ]
    },
    {
      "cell_type": "markdown",
      "metadata": {
        "id": "0_XFi9_O9HTq"
      },
      "source": [
        "##### Cara Penggunaan Tipe Data Boolean Python\n",
        "Sebagaimana yang sudah dijelaskan sebelumnya, tipe data boolean hanya bisa diisi dengan 2 nilai, yakni salah satu dari True atau False. Berikut contoh penulisannya:"
      ]
    },
    {
      "cell_type": "code",
      "execution_count": null,
      "metadata": {
        "id": "I1VGMsI29HTq",
        "outputId": "ae167aca-45f6-40b9-aa23-2368e0110ada"
      },
      "outputs": [
        {
          "name": "stdout",
          "output_type": "stream",
          "text": [
            "True adalah <class 'bool'>\n",
            "False adalah <class 'bool'>\n"
          ]
        }
      ],
      "source": [
        "a = True\n",
        "b = False\n",
        "  \n",
        "print(a,\"adalah\",type(a))\n",
        "print(b,\"adalah\",type(a))"
      ]
    },
    {
      "cell_type": "markdown",
      "metadata": {
        "id": "JYp3Huww9HTq"
      },
      "source": [
        "Yang juga harus diperhatikan adalah penulisan huruf besar atau kecil. Dalam bahasa Python, penulisannya harus persis seperti itu, jika diinput sebagai true atau TRUE, akan menghasilkan error:"
      ]
    },
    {
      "cell_type": "code",
      "execution_count": null,
      "metadata": {
        "id": "M3d3GT5J9HTr",
        "outputId": "07dc5ff0-28f7-4142-f52c-364573858462"
      },
      "outputs": [
        {
          "name": "stdout",
          "output_type": "stream",
          "text": [
            "data :  False\n",
            "- bertipe :  <class 'bool'>\n"
          ]
        }
      ],
      "source": [
        "data_bool = False\n",
        "print(\"data : \", data_bool)\n",
        "print(\"- bertipe : \", type(data_bool))"
      ]
    },
    {
      "cell_type": "markdown",
      "metadata": {
        "id": "mMn8sA7L9HTr"
      },
      "source": [
        "Selain diinput manual, tipe data boolean lebih sering di dapat sebagai hasil dari operasi perbandingan, seperti apakah suatu angka lebih besar dari angka lainnya, apakah lebih kecil, atau sama dengan. Berikut contoh penggunaan operasi perbandingan ini:\n",
        "\n",
        "<br>\n",
        "\n",
        "Sesuai dengan namanya, operator perbandingan digunakan untuk membandingkan dua nilai. Output operator ini adalah nilai boolean. Berikut ini adalah operator perbandingan:\n",
        "\n",
        "<br>\n",
        "\n",
        "Operator | Deskripsi\n",
        "-|-\n",
        "`<`| Kurang dari\n",
        "`>`| Lebih dari\n",
        "`<=`| Kurang dari sama dengan\n",
        "`>=`| Lebih dari sama dengan\n",
        "`==`| Sama dengan\n",
        "`!=`| Tidak sama dengan\n",
        "\n",
        "<br>"
      ]
    },
    {
      "cell_type": "code",
      "execution_count": null,
      "metadata": {
        "id": "TH-Jo_5F9HTr",
        "outputId": "63d4742f-9a99-4a22-bd6b-03e6ef0be512"
      },
      "outputs": [
        {
          "name": "stdout",
          "output_type": "stream",
          "text": [
            "False\n",
            "True\n"
          ]
        }
      ],
      "source": [
        "mobil_1 = 10 != 10\n",
        "print(mobil_1)\n",
        "mobil_2 = 12 >= 10\n",
        "print(mobil_2)"
      ]
    },
    {
      "cell_type": "code",
      "execution_count": null,
      "metadata": {
        "id": "5zj4nOf29HTs"
      },
      "outputs": [],
      "source": []
    },
    {
      "cell_type": "markdown",
      "metadata": {
        "id": "xTHx_Y_V9HTs"
      },
      "source": [
        "### Note :\n",
        "Di baris pertama, saya menyimpan hasil operasi perbandingan 12 < 10 ke dalam variabel foo. Apakah 12 < 10? Salah. Sehingga nilai variabel foo akan berisi boolean False."
      ]
    },
    {
      "cell_type": "markdown",
      "metadata": {
        "id": "tTTXd5hn9HTt"
      },
      "source": [
        "# Tipe data List\n",
        "Secara sederhana, tipe data List adalah sebuah array, yakni tipe data yang berisi kumpulan tipe data lain. Namun berbeda seperti array dalam bahasa pemrograman lain, List bisa diisi dengan berbagai jenis data, tidak harus tipe data yang sama.\n",
        "\n",
        "Dan sebenarnya tipe data array di Python terdiri dari 4 jenis, yakni List, Tuple, Set dan Dictionary. Ke empat tipe data ini mirip satu sama lain dengan sedikit perbedaan. Kita akan bahas secara rinci dalam tutorial terpisah, yang dimulai dari List terlebih dahulu."
      ]
    },
    {
      "cell_type": "markdown",
      "metadata": {
        "id": "hdFjK-0u9HTt"
      },
      "source": [
        "-----------\n",
        "Cara Pembuatan Tipe Data List Python\n",
        "Untuk membuat tipe data List, gunakan tanda kurung siku, kemudian setiap anggota list dipisah dengan tanda koma. Berikut contohnya:"
      ]
    },
    {
      "cell_type": "code",
      "execution_count": null,
      "metadata": {
        "id": "MgBsHMAq9HTt",
        "outputId": "568ddc18-c7c6-4d9d-ec7a-b2e04ba66f3b"
      },
      "outputs": [
        {
          "name": "stdout",
          "output_type": "stream",
          "text": [
            "List_1 ['Belajar', 'Python', 'di', 'Kelas Volkerding'] Type data <class 'list'>\n",
            "List_1 [100, 200, 300, 400] Type data <class 'list'>\n",
            "List_1 ['Python', 200, 6.99, True] Type data <class 'list'>\n"
          ]
        }
      ],
      "source": [
        "list_1 = [\"Belajar\", \"Python\", \"di\", \"Kelas Volkerding\"]\n",
        "list_2 = [100, 200, 300, 400]\n",
        "list_3 = [\"Python\", 200, 6.99, True]\n",
        "  \n",
        "print(\"List_1\",list_1,\"Type data\",type(list_1))\n",
        "print(\"List_1\",list_2,\"Type data\",type(list_2))\n",
        "print(\"List_1\",list_3,\"Type data\",type(list_3))"
      ]
    },
    {
      "cell_type": "markdown",
      "metadata": {
        "id": "oCxpDit09HTu"
      },
      "source": [
        "----------\n",
        "### Cara Mengakses Tipe Data List Python\n",
        "Untuk mengakses nilai individu dari tipe data list, gunakan penomoran index. Data pertama bernomor index 0, data kedua bernomor index 1, dst. Nomor index ini ditulis di dalam tanda kurung siku:"
      ]
    },
    {
      "cell_type": "code",
      "execution_count": null,
      "metadata": {
        "id": "n3gl9l8s9HTu",
        "outputId": "764938d3-388b-42b3-c6d4-f494c5c1c0ed"
      },
      "outputs": [
        {
          "name": "stdout",
          "output_type": "stream",
          "text": [
            "Python\n",
            "200\n",
            "6.99\n",
            "True\n",
            "Kelas Volkerding\n",
            "99j\n"
          ]
        }
      ],
      "source": [
        "Volk = [\"Python\", 200, 6.99, True, 'Kelas Volkerding', 99j]\n",
        "  \n",
        "print(Volk[0])\n",
        "print(Volk[1])\n",
        "print(Volk[2])\n",
        "print(Volk[3])\n",
        "print(Volk[4])\n",
        "print(Volk[5])"
      ]
    },
    {
      "cell_type": "markdown",
      "metadata": {
        "id": "dhN1FlHf9HTv"
      },
      "source": [
        "-------\n",
        "### Cara Mengganti Nilai Tipe Data List Python\n",
        "Nilai yang ada di dalam List bisa diganti atau diupdate. Caranya, isikan data baru ke dalam nomor index seperti contoh berikut:"
      ]
    },
    {
      "cell_type": "code",
      "execution_count": null,
      "metadata": {
        "id": "I85tbasl9HTv",
        "outputId": "73080b0e-5bba-41a4-e4a8-f96264121adf"
      },
      "outputs": [
        {
          "name": "stdout",
          "output_type": "stream",
          "text": [
            "['Python', 200, 6.99, True, 'kelas volkerding', 99j]\n",
            "['Belajar', 200, 6.99, False, 'kelas volkerding', 99j]\n"
          ]
        }
      ],
      "source": [
        "volk = [\"Python\", 200, 6.99, True, 'kelas volkerding', 99j]\n",
        "print(volk)\n",
        "  \n",
        "volk[0] = 'Belajar'\n",
        "volk[3] = False\n",
        "print(volk)"
      ]
    },
    {
      "cell_type": "markdown",
      "metadata": {
        "id": "hyCCOP279HTw"
      },
      "source": [
        "------\n",
        "### Menampilkan Sebagian Anggota List\n",
        "Pilihan lain, Python menyediakan cara untuk menampilkan beberapa anggota List sekaligus. Berikut prakteknya:"
      ]
    },
    {
      "cell_type": "code",
      "execution_count": null,
      "metadata": {
        "id": "3NLTHD6N9HTw",
        "outputId": "9f89c7ce-8b5a-467b-92c6-ca66d04863b9",
        "colab": {
          "base_uri": "https://localhost:8080/"
        }
      },
      "outputs": [
        {
          "output_type": "stream",
          "name": "stdout",
          "text": [
            "['Warkop DKI Reborn', 'KKN Desa Penari', 'Story of Kale']\n",
            "['Dilan 1991', 'Ada Apa Dengan Cinta 2', 'Warkop DKI Reborn']\n",
            "['KKN Desa Penari', 'Story of Kale', 'Nanti Kita Ceritakan Hari ini', 'Dua Dunia']\n",
            "['Dilan 1991', 'Ada Apa Dengan Cinta 2', 'Warkop DKI Reborn', 'KKN Desa Penari', 'Story of Kale', 'Nanti Kita Ceritakan Hari ini', 'Dua Dunia']\n"
          ]
        }
      ],
      "source": [
        "Film_list = [\"Dilan 1991\",\"Ada Apa Dengan Cinta 2\",\"Warkop DKI Reborn\",\"KKN Desa Penari\",\"Story of Kale\",\"Nanti Kita Ceritakan Hari ini\",\"Dua Dunia\"]\n",
        "print(Film_list[2:5]) #tampilkan isi variabel volk mulai dari index ke 2 hingga index ke 4 (index ke 5 tidak ikut dalam hitungan).\n",
        "print(Film_list[:3]) #tampilkan isi variabel volk mulai dari awal hingga index ke 2 (index ke 3 tidak ikut dalam hitungan).\n",
        "print(Film_list[3:]) #tampilkan isi variabel volk mulai dari index ke 3 hingga terakhir.\n",
        "print(Film_list[:]) #tampilkan semua isi variabel volk"
      ]
    },
    {
      "cell_type": "markdown",
      "metadata": {
        "id": "OJZjVP--9HTw"
      },
      "source": [
        "===========================================\n",
        "# Tipe Data Tuple Python\n",
        "Tipe data Tuple sangat mirip seperti tipe data List yang sudah kita pelajari sebelumnya, dimana tipe data Tuple juga terdiri dari kumpulan tipe data lain. Bedanya, anggota di dalam tipe data Tuple tidak bisa diubah setelah di deklarasikan. Kita akan bahas perbedaan ini menggunakan contoh kode program."
      ]
    },
    {
      "cell_type": "markdown",
      "metadata": {
        "id": "09_x_7879HTx"
      },
      "source": [
        "### Cara Pembuatan Tipe Data Tuple Python\n",
        "Untuk membuat tipe data Tuple, gunakan tanda kurung biasa, kemudian setiap anggota list dipisah dengan tanda koma. Berikut contohnya:"
      ]
    },
    {
      "cell_type": "code",
      "execution_count": null,
      "metadata": {
        "id": "Lps0G3cI9HTx",
        "outputId": "3c37ab50-d421-4f99-e257-e10f62c857ab"
      },
      "outputs": [
        {
          "name": "stdout",
          "output_type": "stream",
          "text": [
            "('Belajar', 'Python', 'di', 'kelas volkerding')\n",
            "(100, 200, 300, 400)\n",
            "('Python', 200, 6.99, True)\n"
          ]
        }
      ],
      "source": [
        "volk = (\"Belajar\", \"Python\", \"di\", \"kelas volkerding\")\n",
        "ker = (100, 200, 300, 400)\n",
        "ding = (\"Python\", 200, 6.99, True)\n",
        "  \n",
        "print(volk)\n",
        "print(ker)\n",
        "print(ding)"
      ]
    },
    {
      "cell_type": "markdown",
      "metadata": {
        "id": "v9k0l1X59HTy"
      },
      "source": [
        "Nyaris tidak berbeda dengan List. Namun tipe data Tuple dibuat menggunakan tanda kurung bulat, bukan tanda kurung siku sebagaimana List.\n",
        "### Berikut pembuktiannya:"
      ]
    },
    {
      "cell_type": "code",
      "execution_count": null,
      "metadata": {
        "id": "XpPMeMHt9HTy",
        "outputId": "f8b0787e-b93c-4060-8f79-017af45e690b"
      },
      "outputs": [
        {
          "name": "stdout",
          "output_type": "stream",
          "text": [
            "Type data volk_1 adalah : <class 'list'>\n",
            "Type data volk_2 adalah : <class 'tuple'>\n"
          ]
        }
      ],
      "source": [
        "volk_1 = [\"Belajar\", \"Python\", \"di\", \"kelas volkerding\"]\n",
        "print(\"Type data volk_1 adalah :\",type(volk_1))\n",
        "volk_2 = (\"Belajar\", \"Python\", \"di\", \"kelas volkerding\")\n",
        "print(\"Type data volk_2 adalah :\",type(volk_2))"
      ]
    },
    {
      "cell_type": "markdown",
      "metadata": {
        "id": "JEhODct89HTy"
      },
      "source": [
        "### Cara Mengakses Tipe Data Tuple Python\n",
        "Cara mengakses tipe data Tuple tidak berbeda dengan tipe data List, dimana kita menulis nomor urut index dalam tanda kurung siku:"
      ]
    },
    {
      "cell_type": "code",
      "execution_count": null,
      "metadata": {
        "id": "SakjkuF39HTy",
        "outputId": "cae9283f-9879-4f4f-f74a-3b37471348c4"
      },
      "outputs": [
        {
          "name": "stdout",
          "output_type": "stream",
          "text": [
            "akses ke_1 Python\n",
            "akses ke_2 200\n",
            "akses ke_3 6.99\n",
            "akses ke_4 (6.99, True, 'colkerding')\n",
            "akses ke_5 ('Python', 200, 6.99)\n",
            "akses ke_6 (True, 'colkerding', 99j)\n",
            "akses ke_7 ('Python', 200, 6.99, True, 'colkerding', 99j)\n"
          ]
        }
      ],
      "source": [
        "volk = (\"Python\", 200, 6.99, True, 'colkerding', 99j)\n",
        "  \n",
        "print('akses ke_1',volk[0])\n",
        "print('akses ke_2',volk[1])\n",
        "print('akses ke_3',volk[2])\n",
        "print('akses ke_4',volk[2:5])\n",
        "print('akses ke_5',volk[:3])\n",
        "print('akses ke_6',volk[3:])\n",
        "print('akses ke_7',volk[:])"
      ]
    },
    {
      "cell_type": "markdown",
      "metadata": {
        "id": "czxAvdff9HTz"
      },
      "source": [
        "### Cara Mengganti Nilai Tipe Data Tuple Python\n",
        "Seperti yang dijelaskan sebelumnya, anggota dari tipe data Tuple tidak bisa diubah atau diganti setelah di definisikan. Benarkah demikian? mari kita coba:"
      ]
    },
    {
      "cell_type": "code",
      "execution_count": null,
      "metadata": {
        "id": "yP3fxXSV9HTz",
        "outputId": "342d771b-f57f-45a8-d53d-57990e7b24b5"
      },
      "outputs": [
        {
          "ename": "TypeError",
          "evalue": "'tuple' object does not support item assignment",
          "output_type": "error",
          "traceback": [
            "\u001b[0;31m---------------------------------------------------------------------------\u001b[0m",
            "\u001b[0;31mTypeError\u001b[0m                                 Traceback (most recent call last)",
            "\u001b[0;32m<ipython-input-18-be8b7d5047b0>\u001b[0m in \u001b[0;36m<module>\u001b[0;34m\u001b[0m\n\u001b[1;32m      1\u001b[0m \u001b[0mvolk\u001b[0m \u001b[0;34m=\u001b[0m \u001b[0;34m(\u001b[0m\u001b[0;34m\"Python\"\u001b[0m\u001b[0;34m,\u001b[0m \u001b[0;36m200\u001b[0m\u001b[0;34m,\u001b[0m \u001b[0;36m6.99\u001b[0m\u001b[0;34m,\u001b[0m \u001b[0;32mTrue\u001b[0m\u001b[0;34m,\u001b[0m \u001b[0;34m'volkerding'\u001b[0m\u001b[0;34m,\u001b[0m \u001b[0;36m99j\u001b[0m\u001b[0;34m)\u001b[0m\u001b[0;34m\u001b[0m\u001b[0;34m\u001b[0m\u001b[0m\n\u001b[0;32m----> 2\u001b[0;31m \u001b[0mvolk\u001b[0m\u001b[0;34m[\u001b[0m\u001b[0;36m0\u001b[0m\u001b[0;34m]\u001b[0m \u001b[0;34m=\u001b[0m \u001b[0;34m'Belajar'\u001b[0m\u001b[0;34m\u001b[0m\u001b[0;34m\u001b[0m\u001b[0m\n\u001b[0m\u001b[1;32m      3\u001b[0m \u001b[0mprint\u001b[0m\u001b[0;34m(\u001b[0m\u001b[0mvolk\u001b[0m\u001b[0;34m)\u001b[0m\u001b[0;34m\u001b[0m\u001b[0;34m\u001b[0m\u001b[0m\n",
            "\u001b[0;31mTypeError\u001b[0m: 'tuple' object does not support item assignment"
          ]
        }
      ],
      "source": [
        "volk = (\"Python\", 200, 6.99, True, 'volkerding', 99j)\n",
        "volk[0] = 'Belajar'\n",
        "print(volk)"
      ]
    },
    {
      "cell_type": "markdown",
      "metadata": {
        "id": "P8ysYq1H9HT0"
      },
      "source": [
        "Hasilnya terjadi error dengan pesan: ‘tuple’ object does not support item assignment, yang kurang lebih berarti: “Tuple tidak mendukung penambahan nilai baru“. Inilah pembeda antara tipe data Tuple dengan tipe data List."
      ]
    },
    {
      "cell_type": "markdown",
      "metadata": {
        "id": "GEx1TxCC9HT0"
      },
      "source": [
        "===========================================\n",
        "# Tipe Data Set Python\n",
        "Tipe data Set Python adalah tipe data yang berisi kumpulan tipe data dan dipakai untuk mengolah himpunan (set). Jika dibandingkan dengan tipe data berbentuk array lain di Python, tipe data set berbeda dalam hal index, pengurutan dan keunikan nilai (unique value).\n",
        "\n",
        "Tipe data set tidak memiliki index, sehingga tidak ada mekanisme pengurutan. Maksudnya, ketika kita menginput beberapa nilai ke dalam tipe data set, posisi nilai tersebut bisa berada di mana saja, tidak persis seperti apa yang tertulis. Akibat tidak memiliki index, maka kita tidak bisa menambah nilai baru ke dalam tipe data set dengan cara menulis nomor index (seperti di dalam tipe data list)\n",
        "\n",
        "Ciri khas selanjutnya dari tipe data set adalah tidak bisa menerima nilai ganda, setiap nilai di dalam set harus unik. Jika kita menginput beberapa nilai yang sama, hanya satu yang tersimpan di dalam set."
      ]
    },
    {
      "cell_type": "markdown",
      "metadata": {
        "id": "qjtuTGVL9HT0"
      },
      "source": [
        "### Cara Pembuatan Tipe Data Set Python\n",
        "Untuk membuat tipe data set, gunakan tanda kurung kurawal, kemudian setiap anggota set dipisah dengan tanda koma. Berikut contohnya:"
      ]
    },
    {
      "cell_type": "code",
      "execution_count": null,
      "metadata": {
        "id": "TUkhlHez9HT0",
        "outputId": "aa1810f1-8244-4654-c1b2-1e2b917f0f56"
      },
      "outputs": [
        {
          "name": "stdout",
          "output_type": "stream",
          "text": [
            "{'Python', 'di', 'kelas vokerding', 'Belajar'}\n",
            "{200, 100, 400, 300}\n",
            "{'Python', True, 6.99, 200}\n"
          ]
        }
      ],
      "source": [
        "volk = {\"Belajar\", \"Python\", \"di\", \"kelas vokerding\"}\n",
        "ker = {100, 200, 300, 400}\n",
        "ding = {\"Python\", 200, 6.99, True}\n",
        " \n",
        "print(volk)\n",
        "print(ker)\n",
        "print(ding)"
      ]
    },
    {
      "cell_type": "markdown",
      "metadata": {
        "id": "qp7nZXQ49HT0"
      },
      "source": [
        "Perhatikan urutan data yang tampil, hampir semuanya tidak terurut sesuai penulisan. Ini karena di dalam tipe data set setiap anggota atau element tidak memiliki index sehingga posisinya tidak bisa dipastikan"
      ]
    },
    {
      "cell_type": "code",
      "execution_count": null,
      "metadata": {
        "id": "083BT3mG9HT1",
        "outputId": "4f3c8b29-76b9-46fe-b11d-cefb625fe431"
      },
      "outputs": [
        {
          "name": "stdout",
          "output_type": "stream",
          "text": [
            "{'Python', 'di', 'kelas vokerding', 'Belajar'}  tipe data : <class 'set'>\n",
            "[100, 200, 300, 400]  tipe data : <class 'list'>\n",
            "('Python', 200, 6.99, True)  tipe data : <class 'tuple'>\n"
          ]
        }
      ],
      "source": [
        "volk = {\"Belajar\", \"Python\", \"di\", \"kelas vokerding\"}\n",
        "ker = [100, 200, 300, 400]\n",
        "ding = (\"Python\", 200, 6.99, True)\n",
        " \n",
        "print(volk,\" tipe data :\",type(volk))\n",
        "print(ker,\" tipe data :\",type(ker))\n",
        "print(ding,\" tipe data :\",type(ding))"
      ]
    },
    {
      "cell_type": "markdown",
      "metadata": {
        "id": "zHCn7o4q9HT1"
      },
      "source": [
        "### Sifat Tipe Data Set Python\n",
        "Seperti yang dibahas pada bagian pengertian, sifat dari tipe data set adalah tidak ber-index dan hanya bisa menerima anggota dengan nilai yang berbeda (unique value). Mari lihat dengan contoh kode program:"
      ]
    },
    {
      "cell_type": "code",
      "execution_count": null,
      "metadata": {
        "id": "Ct7bQV0H9HT1",
        "outputId": "4558da3b-f6b9-45fd-fff9-4250c0224bc1"
      },
      "outputs": [
        {
          "name": "stdout",
          "output_type": "stream",
          "text": [
            "{'Python', 'di', 'Belajar', 'kelas volkerding'}\n",
            "{200, 100, 400, 300}\n"
          ]
        }
      ],
      "source": [
        "volk = {\"Belajar\", \"Python\", \"di\", \"kelas volkerding\", \"di\"}\n",
        "ker = {100, 200, 300, 400, 200, 300}\n",
        " \n",
        "print(volk)\n",
        "print(ker)"
      ]
    },
    {
      "cell_type": "markdown",
      "metadata": {
        "id": "twIc5idY9HT1"
      },
      "source": [
        "Untuk variabel volk saya menginput string “di” sebanyak 2 kali namun yang masuk hanya 1 buah. Begitu pula untuk variabel ker yang saya input dua kali nilai 200 dan 300 (total 6 element). Namun yang ditampung hanya 4 element saja dimana angka 200 dan 300 muncul hanya 1 kali. Selain itu tidak ada urutan yang pasti dari tipe data set."
      ]
    },
    {
      "cell_type": "markdown",
      "metadata": {
        "id": "U-PYLk4F9HT2"
      },
      "source": [
        "### Bagaimana jika kita tetap mengakses anggota set menggunakan index? "
      ]
    },
    {
      "cell_type": "code",
      "execution_count": null,
      "metadata": {
        "id": "TjmDxgHE9HT2",
        "outputId": "6d4fbd23-1635-4efa-f97f-86e8a0bad0be"
      },
      "outputs": [
        {
          "ename": "TypeError",
          "evalue": "'set' object is not subscriptable",
          "output_type": "error",
          "traceback": [
            "\u001b[0;31m---------------------------------------------------------------------------\u001b[0m",
            "\u001b[0;31mTypeError\u001b[0m                                 Traceback (most recent call last)",
            "\u001b[0;32m<ipython-input-22-a9c1eff658cc>\u001b[0m in \u001b[0;36m<module>\u001b[0;34m\u001b[0m\n\u001b[1;32m      1\u001b[0m \u001b[0mvolk\u001b[0m \u001b[0;34m=\u001b[0m \u001b[0;34m{\u001b[0m\u001b[0;34m\"Belajar\"\u001b[0m\u001b[0;34m,\u001b[0m \u001b[0;34m\"Python\"\u001b[0m\u001b[0;34m,\u001b[0m \u001b[0;34m\"di\"\u001b[0m\u001b[0;34m,\u001b[0m \u001b[0;34m\"volkerding\"\u001b[0m\u001b[0;34m,\u001b[0m \u001b[0;34m\"di\"\u001b[0m\u001b[0;34m}\u001b[0m\u001b[0;34m\u001b[0m\u001b[0;34m\u001b[0m\u001b[0m\n\u001b[1;32m      2\u001b[0m \u001b[0;34m\u001b[0m\u001b[0m\n\u001b[0;32m----> 3\u001b[0;31m \u001b[0mprint\u001b[0m\u001b[0;34m(\u001b[0m\u001b[0mvolk\u001b[0m\u001b[0;34m[\u001b[0m\u001b[0;36m1\u001b[0m\u001b[0;34m]\u001b[0m\u001b[0;34m)\u001b[0m\u001b[0;34m\u001b[0m\u001b[0;34m\u001b[0m\u001b[0m\n\u001b[0m",
            "\u001b[0;31mTypeError\u001b[0m: 'set' object is not subscriptable"
          ]
        }
      ],
      "source": [
        "volk = {\"Belajar\", \"Python\", \"di\", \"volkerding\", \"di\"}\n",
        " \n",
        "print(volk[1])"
      ]
    },
    {
      "cell_type": "markdown",
      "metadata": {
        "id": "1yQIzPgl9HT2"
      },
      "source": [
        "### Yup, terjadi error karena tipe data set memang tidak memiliki index"
      ]
    },
    {
      "cell_type": "markdown",
      "metadata": {
        "id": "NCfdswaK9HT2"
      },
      "source": [
        "============================================================\n",
        "# Tipe Data Dictionary Python\n",
        "Tipe data dictionary adalah tipe data array dimana key atau index dari array bisa berbentuk string, tidak hanya number saja. Dalam bahasa pemrograman lain (seperti PHP) dictionary ini dikenal juga dengan sebutan associative array.\n",
        "\n",
        "Berikut format dasar penulisan dictionary dalam bahasa Python:"
      ]
    },
    {
      "cell_type": "raw",
      "metadata": {
        "id": "5j_oTbHm9HT2"
      },
      "source": [
        "nama_variabel = { \"key1\": \"value1\", \"key2\": \"value2\", \"key3\": \"value3\" }"
      ]
    },
    {
      "cell_type": "markdown",
      "metadata": {
        "id": "SRKtn4Q59HT2"
      },
      "source": [
        "Tipe data dictionary ini cocok dipakai untuk kelompok data yang kompleks (terdiri dari banyak element)"
      ]
    },
    {
      "cell_type": "markdown",
      "metadata": {
        "id": "cFdyZ7a39HT3"
      },
      "source": [
        "### Cara Pembuatan Tipe Data Dictionary Python\n",
        "Dalam pembuatan dictionary, kita menggunakan tanda kurung kurawal { dan } . Selain itu setiap element merupakan pasangan dari key dan value. Antar satu element dengan element lain dipisah dengan tanda koma seperti contoh berikut:"
      ]
    },
    {
      "cell_type": "code",
      "execution_count": null,
      "metadata": {
        "id": "7RK1OLzN9HT3",
        "outputId": "680e91e3-671e-4e1e-a286-898deb0373cb"
      },
      "outputs": [
        {
          "name": "stdout",
          "output_type": "stream",
          "text": [
            "{1: 'Belajar', 2: 'Python', 3: 'di kelas volkerding'} Type Data : <class 'dict'>\n",
            "{'mengapa': 'Belajar', 'apa': 'Python', 'dimana': 'di kelas volkerding'} Type Data : <class 'dict'>\n",
            "{1: 'Belajar', 'apa': 'Python', 'dimana': 'di kelas volkerding'} Type Data : <class 'dict'>\n"
          ]
        }
      ],
      "source": [
        "volk = { 1: \"Belajar\", 2: \"Python\", 3: \"di kelas volkerding\" }\n",
        "ker = { \"mengapa\": \"Belajar\", \"apa\": \"Python\", \"dimana\": \"di kelas volkerding\" }\n",
        "ding = { 1: \"Belajar\", \"apa\": \"Python\", \"dimana\": \"di kelas volkerding\" }\n",
        " \n",
        "print(volk,\"Type Data :\",type(volk))\n",
        "print(ker,\"Type Data :\",type(ker))\n",
        "print(ding,\"Type Data :\",type(ding))"
      ]
    },
    {
      "cell_type": "markdown",
      "metadata": {
        "id": "NPE9CFBJ9HT3"
      },
      "source": [
        "##### Nilai atau value dari setiap element dictionary bisa terdiri dari berbagai tipe data:"
      ]
    },
    {
      "cell_type": "code",
      "execution_count": null,
      "metadata": {
        "id": "r46i8koY9HT3",
        "outputId": "ff2459e3-91b8-478c-f0ed-5e522ee0c57a"
      },
      "outputs": [
        {
          "name": "stdout",
          "output_type": "stream",
          "text": [
            "{1: 'Belajar', 2: ['Pascal', 'C', 'Python'], 'website': 'volkerding', 'menyerah': False, 'target': 2020, 'riwayat_sekolah': {'SD': 'SDN 3 Hijau Daun', 'SMP': 'SMP 7 Hijau Lumut', 'SMA': 'SMA 8 Hijau Rumput'}}\n"
          ]
        }
      ],
      "source": [
        "volk = { 1: \"Belajar\", \n",
        "        2: [\"Pascal\", \"C\", \"Python\"],\n",
        "        \"website\": \"volkerding\",\n",
        "        \"menyerah\" : False,\n",
        "        \"target\": 2020,\n",
        "        \"riwayat_sekolah\": {\n",
        "          \"SD\": \"SDN 3 Hijau Daun\",\n",
        "          \"SMP\": \"SMP 7 Hijau Lumut\",\n",
        "          \"SMA\": \"SMA 8 Hijau Rumput\"}\n",
        "      }\n",
        "       \n",
        "print(volk)"
      ]
    },
    {
      "cell_type": "markdown",
      "metadata": {
        "id": "A8X9yao69HT3"
      },
      "source": [
        "Sekarang variabel volk saya isi dengan 6 element dictionary dengan tipe data yang berbeda-beda, mulai dari string, boolean, number, list, hingga dictionary lain."
      ]
    },
    {
      "cell_type": "markdown",
      "metadata": {
        "id": "QIvnZ4ZX9HT4"
      },
      "source": [
        "### Cara Mengakses Element Dictionary Python\n",
        "Untuk menampilkan satu element yang ada di dalam dictionary, tulis key atau index yang ingin diakses dalam kurung siku:"
      ]
    },
    {
      "cell_type": "code",
      "execution_count": null,
      "metadata": {
        "id": "fNiqRLCR9HT4",
        "outputId": "a9625d8b-9066-48bf-b85e-475d47f4b01c"
      },
      "outputs": [
        {
          "name": "stdout",
          "output_type": "stream",
          "text": [
            "Belajar Python\n"
          ]
        }
      ],
      "source": [
        "volk = { \"kegiatan\": \"Belajar Python\",\n",
        "        \"website\": \"vokerding\",\n",
        "        \"hasil\": \"Yakin bisa!\" }\n",
        " \n",
        "print(volk[\"kegiatan\"])"
      ]
    },
    {
      "cell_type": "markdown",
      "metadata": {
        "id": "Bv8I65OK9HT4"
      },
      "source": [
        "### Cara Mengubah Element Dictionary Python\n",
        "Setelah di deklarasikan, kita bisa mengubah nilai dari sebuah element dictionary. Caranya mirip seperti tipe data list, yakni mengisi nilai ke dalam key atau index dictionary:"
      ]
    },
    {
      "cell_type": "code",
      "execution_count": null,
      "metadata": {
        "id": "aEcb7a219HT4",
        "outputId": "932e3e96-be15-4154-ea49-3956bb4e0d8e"
      },
      "outputs": [
        {
          "name": "stdout",
          "output_type": "stream",
          "text": [
            "{'kegiatan': 'Belajar Bahasa Pemrograman', 'website': 'volkerding', 'hasil': 'Yakin bisa!'}\n"
          ]
        }
      ],
      "source": [
        "volk = { \"kegiatan\": \"Belajar Python\",\n",
        "        \"website\": \"volkerding\",\n",
        "        \"hasil\": \"Yakin bisa!\" }\n",
        " \n",
        "volk[\"kegiatan\"] = \"Belajar Bahasa Pemrograman\"\n",
        "print(volk)"
      ]
    },
    {
      "cell_type": "markdown",
      "metadata": {
        "id": "JgzViZWb9HT4"
      },
      "source": [
        "### Cara Menambah Element Dictionary Python\n",
        "Untuk menambah element baru ke dalam dictionary, bisa dilakukan dengan cara mengisi nilai ke sebuah key baru:"
      ]
    },
    {
      "cell_type": "code",
      "execution_count": null,
      "metadata": {
        "id": "Zp2S5cL39HT-",
        "outputId": "ab249878-0ec2-4f68-a04c-0413c0c436e5"
      },
      "outputs": [
        {
          "name": "stdout",
          "output_type": "stream",
          "text": [
            "{'kegiatan': 'Belajar Python', 'website': 'volkerding', 'hasil': 'Yakin bisa!', 'target': 2020}\n"
          ]
        }
      ],
      "source": [
        "volk = { \"kegiatan\": \"Belajar Python\",\n",
        "        \"website\": \"volkerding\",\n",
        "        \"hasil\": \"Yakin bisa!\" }\n",
        " \n",
        "volk[\"target\"] = 2020\n",
        "print(volk)"
      ]
    },
    {
      "cell_type": "markdown",
      "metadata": {
        "id": "k2Tv2Fi_9HT_"
      },
      "source": [
        "### Cara Menghapus Element Dictionary Python\n",
        "Untuk menghapus element dari sebuah dictionary, bsia menggunakan perintah del. Berikut contohnya:"
      ]
    },
    {
      "cell_type": "code",
      "execution_count": null,
      "metadata": {
        "id": "2GKY0WNw9HT_",
        "outputId": "0bf04a32-81f6-4778-9a03-a8ea8e44fef7"
      },
      "outputs": [
        {
          "name": "stdout",
          "output_type": "stream",
          "text": [
            "{'website': 'volkerding', 'hasil': 'Yakin bisa!'}\n"
          ]
        }
      ],
      "source": [
        "volk = { \"kegiatan\": \"Belajar Python\",\n",
        "        \"website\": \"volkerding\",\n",
        "        \"hasil\": \"Yakin bisa!\" }\n",
        " \n",
        "del volk[\"kegiatan\"]\n",
        "print(volk)"
      ]
    }
  ],
  "metadata": {
    "kernelspec": {
      "display_name": "Python 3",
      "language": "python",
      "name": "python3"
    },
    "language_info": {
      "codemirror_mode": {
        "name": "ipython",
        "version": 3
      },
      "file_extension": ".py",
      "mimetype": "text/x-python",
      "name": "python",
      "nbconvert_exporter": "python",
      "pygments_lexer": "ipython3",
      "version": "3.8.5"
    },
    "colab": {
      "provenance": [],
      "include_colab_link": true
    }
  },
  "nbformat": 4,
  "nbformat_minor": 0
}