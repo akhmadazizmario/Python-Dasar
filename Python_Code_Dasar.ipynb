{
  "nbformat": 4,
  "nbformat_minor": 0,
  "metadata": {
    "colab": {
      "provenance": [],
      "collapsed_sections": [
        "46urlJzK3G3W",
        "LtiykgkB3SQD",
        "qtGWsLBTv92O",
        "3_THYsw9xRqZ",
        "Y3PdIoexyqs7",
        "dvV5C6SuzWrb",
        "RK8RjFSS0MfG",
        "hrrWCsdK3HHM",
        "S124UOzE5KJV",
        "JZQcbqpL6B9n",
        "CCZxnBEs_aLN",
        "noTS-jc2AQXP",
        "jntmkeudBHz7",
        "LxYRZQ31B1z2",
        "jKcRyAcgCeWY",
        "PdyfubXLThfa",
        "x4dChVtAreZp",
        "gtK7y9pZ7grH",
        "YlkUuKjC-XkE"
      ],
      "authorship_tag": "ABX9TyMhWNl21/xiJEAXRAxzHJIO",
      "include_colab_link": true
    },
    "kernelspec": {
      "name": "python3",
      "display_name": "Python 3"
    },
    "language_info": {
      "name": "python"
    }
  },
  "cells": [
    {
      "cell_type": "markdown",
      "metadata": {
        "id": "view-in-github",
        "colab_type": "text"
      },
      "source": [
        "<a href=\"https://colab.research.google.com/github/akhmadazizmario/Python-Dasar/blob/master/Python_Code_Dasar.ipynb\" target=\"_parent\"><img src=\"https://colab.research.google.com/assets/colab-badge.svg\" alt=\"Open In Colab\"/></a>"
      ]
    },
    {
      "cell_type": "markdown",
      "source": [
        "#Sample code"
      ],
      "metadata": {
        "id": "46urlJzK3G3W"
      }
    },
    {
      "cell_type": "code",
      "execution_count": null,
      "metadata": {
        "colab": {
          "base_uri": "https://localhost:8080/"
        },
        "id": "2f0ypo7b1yAX",
        "outputId": "bf1c8944-7cd5-4dd6-e1d6-2d2d80a338b6"
      },
      "outputs": [
        {
          "output_type": "stream",
          "name": "stdout",
          "text": [
            "hallo world\n"
          ]
        }
      ],
      "source": [
        "#ini belajar python day 1\n",
        "print('hallo world')"
      ]
    },
    {
      "cell_type": "code",
      "source": [
        "print('belajar python itu mudah')\n",
        "x=3\n",
        "print(x+6+5)"
      ],
      "metadata": {
        "colab": {
          "base_uri": "https://localhost:8080/"
        },
        "id": "-HcPLErz2Ibs",
        "outputId": "7d395454-5c93-4c7f-95f2-b83ed9b8f83b"
      },
      "execution_count": null,
      "outputs": [
        {
          "output_type": "stream",
          "name": "stdout",
          "text": [
            "belajar python itu mudah\n",
            "14\n"
          ]
        }
      ]
    },
    {
      "cell_type": "markdown",
      "source": [
        "# Variable Pada Python"
      ],
      "metadata": {
        "id": "LtiykgkB3SQD"
      }
    },
    {
      "cell_type": "code",
      "source": [
        "cars= 50\n",
        "mils= 43.6\n",
        "name= \"ujang\"\n",
        "\n",
        "print(cars)\n",
        "print(mils)\n",
        "print(name) \n",
        "\n",
        "print(cars+mils)"
      ],
      "metadata": {
        "colab": {
          "base_uri": "https://localhost:8080/"
        },
        "id": "ZmIpbMUH2-1j",
        "outputId": "958efbe5-234f-4d54-a39d-ad0c3fda534e"
      },
      "execution_count": null,
      "outputs": [
        {
          "output_type": "stream",
          "name": "stdout",
          "text": [
            "50\n",
            "43.6\n",
            "ujang\n",
            "93.6\n"
          ]
        }
      ]
    },
    {
      "cell_type": "markdown",
      "source": [
        "#List"
      ],
      "metadata": {
        "id": "qtGWsLBTv92O"
      }
    },
    {
      "cell_type": "code",
      "source": [
        "mylist = [ 'abcd', 786, 2.23, 'john', 70.2 ]\n",
        "tinylist = [123, 'john']\n",
        "\n",
        "print(mylist)  #print complete list\n",
        "print(type(mylist))    #prints type of object as list\n",
        "print(len(mylist))  #prints length of the list\n",
        "print(mylist[0])    #prints first element of the list\n",
        "print(mylist[1:3])  \n",
        "print(mylist[2:])\n",
        "print(mylist * 2)\n",
        "print(mylist + tinylist)"
      ],
      "metadata": {
        "colab": {
          "base_uri": "https://localhost:8080/"
        },
        "id": "7LjjDQgov4l1",
        "outputId": "8bf1032a-4035-4307-98d3-f0a900f30c8c"
      },
      "execution_count": null,
      "outputs": [
        {
          "output_type": "stream",
          "name": "stdout",
          "text": [
            "['abcd', 786, 2.23, 'john', 70.2]\n",
            "<class 'list'>\n",
            "5\n",
            "abcd\n",
            "[786, 2.23]\n",
            "[2.23, 'john', 70.2]\n",
            "['abcd', 786, 2.23, 'john', 70.2, 'abcd', 786, 2.23, 'john', 70.2]\n",
            "['abcd', 786, 2.23, 'john', 70.2, 123, 'john']\n"
          ]
        }
      ]
    },
    {
      "cell_type": "markdown",
      "source": [
        "#list is mutable"
      ],
      "metadata": {
        "id": "3_THYsw9xRqZ"
      }
    },
    {
      "cell_type": "code",
      "source": [
        "mylist = [ 'abcd', 786 , 2.23, 'john', 70.2]\n",
        "tinylist = [123, 'john']\n",
        "\n",
        "print(mylist)\n",
        "mylist.append('wiley') #appending an element to a list\n",
        "print(mylist)\n",
        "mylist.insert(2, 'python') #inserting an element at index 2\n",
        "print(mylist)\n",
        "mylist.remove(786) #removing atau hapus\n",
        "print(mylist)\n",
        "mylist.pop(3) #hapus elemen from a spesific posisi\n",
        "print(mylist)\n",
        "mylist.extend(tinylist) #extending a list with elements from another list\n",
        "print(mylist)"
      ],
      "metadata": {
        "colab": {
          "base_uri": "https://localhost:8080/"
        },
        "id": "kju80223xQzX",
        "outputId": "f0f13197-9041-47de-bd15-10de49114e78"
      },
      "execution_count": null,
      "outputs": [
        {
          "output_type": "stream",
          "name": "stdout",
          "text": [
            "['abcd', 786, 2.23, 'john', 70.2]\n",
            "['abcd', 786, 2.23, 'john', 70.2, 'wiley']\n",
            "['abcd', 786, 'python', 2.23, 'john', 70.2, 'wiley']\n",
            "['abcd', 'python', 2.23, 'john', 70.2, 'wiley']\n",
            "['abcd', 'python', 2.23, 70.2, 'wiley']\n",
            "['abcd', 'python', 2.23, 70.2, 'wiley', 123, 'john']\n"
          ]
        }
      ]
    },
    {
      "cell_type": "markdown",
      "source": [
        "#Tuple"
      ],
      "metadata": {
        "id": "Y3PdIoexyqs7"
      }
    },
    {
      "cell_type": "code",
      "source": [
        "tuple_items = ('Cars', 786,2.23,'toyota',70.2)\n",
        "tinytuple = (123,'camry')\n",
        "\n",
        "print(tuple_items)\n",
        "print(tuple_items[0])\n",
        "print(tuple_items[1:3])\n",
        "print(tuple_items[0])\n",
        "print(tinytuple*2)\n",
        "print(tuple_items+tinytuple)"
      ],
      "metadata": {
        "colab": {
          "base_uri": "https://localhost:8080/"
        },
        "id": "RE4LmqXeyueh",
        "outputId": "346d71ad-a2e3-47f9-b387-2e5cd64f3d2b"
      },
      "execution_count": null,
      "outputs": [
        {
          "output_type": "stream",
          "name": "stdout",
          "text": [
            "('Cars', 786, 2.23, 'toyota', 70.2)\n",
            "Cars\n",
            "(786, 2.23)\n",
            "Cars\n",
            "(123, 'camry', 123, 'camry')\n",
            "('Cars', 786, 2.23, 'toyota', 70.2, 123, 'camry')\n"
          ]
        }
      ]
    },
    {
      "cell_type": "markdown",
      "source": [
        "#String"
      ],
      "metadata": {
        "id": "dvV5C6SuzWrb"
      }
    },
    {
      "cell_type": "code",
      "source": [
        "string = \"Data Science !\"\n",
        "\n",
        "print(string)\n",
        "print(string[0])\n",
        "print(string[2:5])\n",
        "print(string[2:])\n",
        "print(string * 2)\n",
        "print(string + \"foundation\")"
      ],
      "metadata": {
        "colab": {
          "base_uri": "https://localhost:8080/"
        },
        "id": "eZFPLBM0zYPH",
        "outputId": "f20b5b01-10ad-4610-b4d2-c2edaebed000"
      },
      "execution_count": null,
      "outputs": [
        {
          "output_type": "stream",
          "name": "stdout",
          "text": [
            "Data Science !\n",
            "D\n",
            "ta \n",
            "ta Science !\n",
            "Data Science !Data Science !\n",
            "Data Science !foundation\n"
          ]
        }
      ]
    },
    {
      "cell_type": "markdown",
      "source": [
        "# Type conversion : primitive"
      ],
      "metadata": {
        "id": "RK8RjFSS0MfG"
      }
    },
    {
      "cell_type": "code",
      "source": [
        "x =  2.5; print(x, type(x), end=\" >>>  \") #tanda ; bukan untuk tolak ukur error\n",
        "y = int(x)\n",
        "print(y, type(y)) #contoh tanpa tanda ; seperti di atas\n",
        "x = 1; print(x, type(x), end=\" >>> \")\n",
        "y = bool(x) ; print(y, type(y))\n",
        "x = '124'; print(x, type(x), end=\" >>> \")\n",
        "y = int(x); print(y, type(y))\n",
        "x = '2.5'; print(x, type(x), end=\" >>> \")\n",
        "y = float(x); print(y, type(y))\n",
        "x = True; print(x, type(x),end=\" >>> \")\n",
        "y = str(x); print(y, type(y))"
      ],
      "metadata": {
        "colab": {
          "base_uri": "https://localhost:8080/"
        },
        "id": "DdSm2r5T0Q8H",
        "outputId": "12737c47-97af-4d41-9979-3c62f7a5871d"
      },
      "execution_count": null,
      "outputs": [
        {
          "output_type": "stream",
          "name": "stdout",
          "text": [
            "2.5 <class 'float'> >>>  2 <class 'int'>\n",
            "1 <class 'int'> >>> True <class 'bool'>\n",
            "124 <class 'str'> >>> 124 <class 'int'>\n",
            "2.5 <class 'str'> >>> 2.5 <class 'float'>\n",
            "True <class 'bool'> >>> True <class 'str'>\n"
          ]
        }
      ]
    },
    {
      "cell_type": "markdown",
      "source": [
        "#Type conversion : Non-Primitive"
      ],
      "metadata": {
        "id": "hrrWCsdK3HHM"
      }
    },
    {
      "cell_type": "code",
      "source": [
        "x = [2, 5, 'Hi', 12, 2.5]; print(x, type(x), end = \"\\n >>> \")\n",
        "y = tuple(x) ; print(y, type(y))\n",
        "x = [2, 5, 'Hi', 12, 2, 2.5, 5]; print(x, type(x), end = \"\\n >>> \")\n",
        "y = set(x) ; print(y, type(y))\n",
        "x = (2, 5, 'Hi', 12, 2, 2.5, 5); print(x, type(x), end = \"\\n >>> \")\n",
        "y = list(x); print(y, type(y))\n",
        "x = [['name','john'],['age', 22],['city','delhi']]; print(x, type(x), end = \"\\n >>>\")\n",
        "y = dict(x); print(y, type(y))"
      ],
      "metadata": {
        "colab": {
          "base_uri": "https://localhost:8080/"
        },
        "id": "aD4HGD2W3LzI",
        "outputId": "16f49bc2-ab56-4a0d-b522-e27de18dfaae"
      },
      "execution_count": null,
      "outputs": [
        {
          "output_type": "stream",
          "name": "stdout",
          "text": [
            "[2, 5, 'Hi', 12, 2.5] <class 'list'>\n",
            " >>> (2, 5, 'Hi', 12, 2.5) <class 'tuple'>\n",
            "[2, 5, 'Hi', 12, 2, 2.5, 5] <class 'list'>\n",
            " >>> {2, 2.5, 5, 12, 'Hi'} <class 'set'>\n",
            "(2, 5, 'Hi', 12, 2, 2.5, 5) <class 'tuple'>\n",
            " >>> [2, 5, 'Hi', 12, 2, 2.5, 5] <class 'list'>\n",
            "[['name', 'john'], ['age', 22], ['city', 'delhi']] <class 'list'>\n",
            " >>>{'name': 'john', 'age': 22, 'city': 'delhi'} <class 'dict'>\n"
          ]
        }
      ]
    },
    {
      "cell_type": "markdown",
      "source": [
        "#Operator Aritmatika"
      ],
      "metadata": {
        "id": "S124UOzE5KJV"
      }
    },
    {
      "cell_type": "code",
      "source": [
        "x = 15\n",
        "y = 4 \n",
        "\n",
        "print('x + y =',x+y) #addition\n",
        "print('x - y =',x-y) #Subtraction\n",
        "print('x * y =',x*y) #Multiplication\n",
        "print('x / y =',x/y) #Division\n",
        "print('x // y =',x//y) #Floor Division\n",
        "print('x ** y =',x**y) #Exponent"
      ],
      "metadata": {
        "colab": {
          "base_uri": "https://localhost:8080/"
        },
        "id": "eY712WCL5Ogs",
        "outputId": "9a8ce2d4-9f5c-4730-f324-2beab6edcb15"
      },
      "execution_count": null,
      "outputs": [
        {
          "output_type": "stream",
          "name": "stdout",
          "text": [
            "x + y = 19\n",
            "x - y = 11\n",
            "x * y = 60\n",
            "x / y = 3.75\n",
            "x // y = 3\n",
            "x ** y = 50625\n"
          ]
        }
      ]
    },
    {
      "cell_type": "markdown",
      "source": [
        "# Comparation Operations"
      ],
      "metadata": {
        "id": "JZQcbqpL6B9n"
      }
    },
    {
      "cell_type": "code",
      "source": [
        "x = 18\n",
        "y = 12\n",
        "\n",
        "print('x > y is',x>y) \n",
        "print('x < y is',x<y)\n",
        "print('x == y is',x==y)\n",
        "print('x != y is',x!=y)\n",
        "print('x >= y is',x>=y)\n",
        "print('x <= y is',x<=y)"
      ],
      "metadata": {
        "colab": {
          "base_uri": "https://localhost:8080/"
        },
        "id": "d2J7wmn46F6p",
        "outputId": "eae0a8e1-c280-4745-dba2-71ce2b63eeed"
      },
      "execution_count": null,
      "outputs": [
        {
          "output_type": "stream",
          "name": "stdout",
          "text": [
            "x > y is True\n",
            "x < y is False\n",
            "x == y is False\n",
            "x != y is True\n",
            "x >= y is True\n",
            "x <= y is False\n"
          ]
        }
      ]
    },
    {
      "cell_type": "markdown",
      "source": [
        "# Logical Operators"
      ],
      "metadata": {
        "id": "CCZxnBEs_aLN"
      }
    },
    {
      "cell_type": "code",
      "source": [
        "x = True #ingat bahasa python itu sangat case sensitive harus disesuain dengan format tulisan jika huruf pertama kapital harus sesuai \n",
        "y = False\n",
        "\n",
        "print('x and y is',x and y) # AND Logic\n",
        "print('x or y is',x or y) # OR Logic\n",
        "print('not x is',not x) # NOT Logic"
      ],
      "metadata": {
        "colab": {
          "base_uri": "https://localhost:8080/"
        },
        "id": "sImbsk9y_dEV",
        "outputId": "baf1abdc-9b2e-4585-b73b-166a6003b1e6"
      },
      "execution_count": null,
      "outputs": [
        {
          "output_type": "stream",
          "name": "stdout",
          "text": [
            "x and y is False\n",
            "x or y is True\n",
            "not x is False\n"
          ]
        }
      ]
    },
    {
      "cell_type": "markdown",
      "source": [
        "# Identify Operators"
      ],
      "metadata": {
        "id": "noTS-jc2AQXP"
      }
    },
    {
      "cell_type": "code",
      "source": [
        "x1 = 5\n",
        "y1 = 5\n",
        "x2 = 'Hello' \n",
        "y2 = 'Hello'\n",
        "x3 = [1,2,3]\n",
        "y3 = [1,2,3]\n",
        "\n",
        "print(x1 is not y1) # identifikasi tidak sama?\n",
        "print(x2 is y2) # identifikasi tidak sama?\n",
        "print(x3 is y3) # identifikasi tidak sama?"
      ],
      "metadata": {
        "colab": {
          "base_uri": "https://localhost:8080/"
        },
        "id": "O1u7WdsaAUAQ",
        "outputId": "02f61568-f955-42a7-817b-c5a003de8103"
      },
      "execution_count": null,
      "outputs": [
        {
          "output_type": "stream",
          "name": "stdout",
          "text": [
            "False\n",
            "True\n",
            "False\n"
          ]
        }
      ]
    },
    {
      "cell_type": "markdown",
      "source": [
        "# Membership Operators"
      ],
      "metadata": {
        "id": "jntmkeudBHz7"
      }
    },
    {
      "cell_type": "code",
      "source": [
        "x = 'Hello world'\n",
        "y = {1:'a',2:'b'}\n",
        "\n",
        "print('H' in x)  # adalah member ?\n",
        "print('Hello' not in x) # adalah bukan member ?\n",
        "print(1 in y)  # adalah member ?\n",
        "print('a' in y) # adalah member ?"
      ],
      "metadata": {
        "colab": {
          "base_uri": "https://localhost:8080/"
        },
        "id": "ULnIqeVtBKqr",
        "outputId": "b3583efa-6b12-4d23-abd7-c56f22441f59"
      },
      "execution_count": null,
      "outputs": [
        {
          "output_type": "stream",
          "name": "stdout",
          "text": [
            "True\n",
            "False\n",
            "True\n",
            "False\n"
          ]
        }
      ]
    },
    {
      "cell_type": "markdown",
      "source": [
        "# Input Function"
      ],
      "metadata": {
        "id": "LxYRZQ31B1z2"
      }
    },
    {
      "cell_type": "code",
      "source": [
        "# menginput sebuah kata untuk user\n",
        "nama = input(\"Masukkan nama kamu :\")\n",
        "\n",
        "#output\n",
        "print(\"hai\", nama)"
      ],
      "metadata": {
        "colab": {
          "base_uri": "https://localhost:8080/"
        },
        "id": "sPQ9ZDR4B5Uc",
        "outputId": "9bf903c2-92ff-42cc-ae98-bcc4d6d8234f"
      },
      "execution_count": null,
      "outputs": [
        {
          "output_type": "stream",
          "name": "stdout",
          "text": [
            "Masukkan nama kamu hallo\n",
            "hello hallo\n"
          ]
        }
      ]
    },
    {
      "cell_type": "markdown",
      "source": [
        "# Control Flow : Nested if-else"
      ],
      "metadata": {
        "id": "jKcRyAcgCeWY"
      }
    },
    {
      "cell_type": "code",
      "source": [
        "var = 50\n",
        "if var < 200:\n",
        "  print (\"Nilai ekspresi kurang dari 200\")\n",
        "  if var == 150:\n",
        "    print (\" yang nilai 150\")\n",
        "  elif var == 100:\n",
        "    print(\" yang nilai 100\")\n",
        "  elif var == 50:\n",
        "    print(\" yang nilai 50\")\n",
        "  elif var < 50:\n",
        "    print(\" nilai ekspresi kurang dari 50 \")\n",
        "else:\n",
        "  print(\"tidak dapat menemukan ekspresi yang benar\")\n",
        "print(\"selamat tinggal\")"
      ],
      "metadata": {
        "colab": {
          "base_uri": "https://localhost:8080/"
        },
        "id": "6ZmKO5vsCjhl",
        "outputId": "04262097-722b-48fe-925e-3580c25ee6a3"
      },
      "execution_count": null,
      "outputs": [
        {
          "output_type": "stream",
          "name": "stdout",
          "text": [
            "Nilai ekspresi kurang dari 200\n",
            " yang nilai 50\n",
            "selamat gays\n"
          ]
        }
      ]
    },
    {
      "cell_type": "markdown",
      "source": [
        "# operasi aritmatika"
      ],
      "metadata": {
        "id": "PdyfubXLThfa"
      }
    },
    {
      "cell_type": "code",
      "source": [
        "print('(+ , - , * , /)')\n",
        "print('==============================')\n",
        "print('+ = TAMBAH')\n",
        "print(\"- = KURANG\")\n",
        "print(\"* = KALI\")\n",
        "print(\"/ = BAGI\")\n",
        "print('==============================')\n",
        "simbol = (input('pilih operator :'))\n",
        "angka1 = float (input('masukan angka ke 1 : '))\n",
        "angka2 = float (input('masukan angka ke 2 : '))\n",
        "\n",
        "#PROSES PERHITUNGAN\n",
        "\n",
        "if simbol== '+':\n",
        "  perhitungan = angka1 + angka2\n",
        "  print(f\"hasilnya {perhitungan}\")\n",
        "  \n",
        "elif simbol=='-':\n",
        "  perhitungan = angka1 - angka2 \n",
        "  print(f\"hasilnya {perhitungan}\")\n",
        "\n",
        "elif simbol=='*':\n",
        "\tperhitungan = angka1 * angka2 \n",
        "\tprint(f\"hasilnya {perhitungan}\")\n",
        "\t\n",
        "elif simbol=='/':\n",
        "\tperhitungan= angka1 / angka2\n",
        "\tprint(f'hasilnya {perhitungan}')"
      ],
      "metadata": {
        "colab": {
          "base_uri": "https://localhost:8080/"
        },
        "id": "Y3F4N0KXTk2T",
        "outputId": "2bb8a15a-5e59-4c38-f076-55b1b114c1cf"
      },
      "execution_count": null,
      "outputs": [
        {
          "output_type": "stream",
          "name": "stdout",
          "text": [
            "(+ , - , * , /)\n",
            "==============================\n",
            "+ = TAMBAH\n",
            "- = KURANG\n",
            "* = KALI\n",
            "/ = BAGI\n",
            "==============================\n",
            "pilih operator :+\n",
            "masukan angka ke 1 : 23\n",
            "masukan angka ke 2 : 22\n",
            "hasilnya 45.0\n"
          ]
        }
      ]
    },
    {
      "cell_type": "markdown",
      "source": [
        "# Menghitung Luas Limas dengan Loop"
      ],
      "metadata": {
        "id": "x4dChVtAreZp"
      }
    },
    {
      "cell_type": "code",
      "source": [
        "#Bangun Ruang Limas\n",
        "#Volume = 1/3 luas alas tinggi sisi\n",
        "#Luas = luas alas + jumlah luas sisi tegak\n",
        "\n",
        "def volume():\n",
        "    luas_alas = float(input(\"Masukkan Luas Alas: \"))\n",
        "    tinggi = float(input(\"Masukkan Tinggi Limas: \"))\n",
        "    sisi = float(input(\"Masukkan Sisi Limas: \"))\n",
        "\n",
        "    volume = 1/3 * luas_alas * tinggi * sisi\n",
        "\n",
        "    print (\"Volume Limas adalah %d\" %volume)\n",
        "\n",
        "def luas():\n",
        "    luas_alas = float(input(\"Masukkan Luas Alas: \"))\n",
        "    jumlah_sisi_tegak = float(input(\"Masukkan Jumlah Sisi Tegak: \"))\n",
        "\n",
        "    luas = luas_alas + jumlah_sisi_tegak\n",
        "\n",
        "    print(\"Luas Limas adalah %d\" %luas)\n",
        "\n",
        "def menu():\n",
        "    print(\"Masukkan Nomor dibawah untuk menggunakan aplikasi\")\n",
        "    print(\"1. Volume Limas\")\n",
        "    print(\"2. Luas Limas\")\n",
        "    masukan = int(input(\"Masukka No: \"))\n",
        "    return masukan\n",
        "\n",
        "loop = 1\n",
        "masuk = 0\n",
        "while loop >= 1:\n",
        "    masuk = menu()\n",
        "    if masuk == 1:\n",
        "        volume()\n",
        "    elif masuk == 2:\n",
        "        luas()\n",
        "print('Semoga Menyenangkan')"
      ],
      "metadata": {
        "colab": {
          "base_uri": "https://localhost:8080/"
        },
        "id": "UTZw4MN9rizU",
        "outputId": "009ecf41-b3dd-477e-8b6d-66401e3975d8"
      },
      "execution_count": null,
      "outputs": [
        {
          "output_type": "stream",
          "name": "stdout",
          "text": [
            "Masukkan Nomor dibawah untuk menggunakan aplikasi\n",
            "1. Volume Limas\n",
            "2. Luas Limas\n",
            "Masukka No: 2\n",
            "Masukkan Luas Alas: 120\n",
            "Masukkan Jumlah Sisi Tegak: 120\n",
            "Luas Limas adalah 240\n",
            "Masukkan Nomor dibawah untuk menggunakan aplikasi\n",
            "1. Volume Limas\n",
            "2. Luas Limas\n",
            "Masukka No: 1\n",
            "Masukkan Luas Alas: 120\n",
            "Masukkan Tinggi Limas: 120\n",
            "Masukkan Sisi Limas: 120\n",
            "Volume Limas adalah 576000\n",
            "Masukkan Nomor dibawah untuk menggunakan aplikasi\n",
            "1. Volume Limas\n",
            "2. Luas Limas\n",
            "Masukka No: 1\n",
            "Masukkan Luas Alas: 10\n",
            "Masukkan Tinggi Limas: 10\n",
            "Masukkan Sisi Limas: 10\n",
            "Volume Limas adalah 333\n",
            "Masukkan Nomor dibawah untuk menggunakan aplikasi\n",
            "1. Volume Limas\n",
            "2. Luas Limas\n",
            "Masukka No: 1\n",
            "Masukkan Luas Alas: 10\n",
            "Masukkan Tinggi Limas: 10\n",
            "Masukkan Sisi Limas: 10\n",
            "Volume Limas adalah 333\n",
            "Masukkan Nomor dibawah untuk menggunakan aplikasi\n",
            "1. Volume Limas\n",
            "2. Luas Limas\n",
            "Masukka No: 2\n",
            "Masukkan Luas Alas: 10\n",
            "Masukkan Jumlah Sisi Tegak: 10\n",
            "Luas Limas adalah 20\n",
            "Masukkan Nomor dibawah untuk menggunakan aplikasi\n",
            "1. Volume Limas\n",
            "2. Luas Limas\n"
          ]
        }
      ]
    },
    {
      "cell_type": "markdown",
      "source": [],
      "metadata": {
        "id": "8_XbC89N7d5Z"
      }
    },
    {
      "cell_type": "markdown",
      "source": [
        "#Loop For Lop"
      ],
      "metadata": {
        "id": "gtK7y9pZ7grH"
      }
    },
    {
      "cell_type": "code",
      "source": [
        "lst = [\"wiley\", \"python\", \"pyspark\", \"data\", \"Engineering\"]\n",
        "for i in range(len(lst)):\n",
        "  print(lst[i])"
      ],
      "metadata": {
        "colab": {
          "base_uri": "https://localhost:8080/"
        },
        "id": "_jlAopTU7q04",
        "outputId": "104b221b-d587-4762-f3fe-47cbc4b1ac89"
      },
      "execution_count": null,
      "outputs": [
        {
          "output_type": "stream",
          "name": "stdout",
          "text": [
            "wiley\n",
            "python\n",
            "pyspark\n",
            "data\n",
            "Engineering\n"
          ]
        }
      ]
    },
    {
      "cell_type": "markdown",
      "source": [
        "# Loop: Break"
      ],
      "metadata": {
        "id": "K3HVO7po9uMx"
      }
    },
    {
      "cell_type": "code",
      "source": [
        "for letter in 'for loop python':\n",
        "\n",
        "  #break the loop as soon it sees 'p'\n",
        "  if letter == 'p':\n",
        "    break\n",
        "\n",
        "  print('current letter:', letter)"
      ],
      "metadata": {
        "colab": {
          "base_uri": "https://localhost:8080/"
        },
        "id": "pPOxD-kW9xpf",
        "outputId": "e731f841-3c32-40ca-901c-e09066dfc45d"
      },
      "execution_count": null,
      "outputs": [
        {
          "output_type": "stream",
          "name": "stdout",
          "text": [
            "current letter: f\n",
            "current letter: o\n",
            "current letter: r\n",
            "current letter:  \n",
            "current letter: l\n",
            "current letter: o\n",
            "current letter: o\n"
          ]
        }
      ]
    },
    {
      "cell_type": "markdown",
      "source": [
        "#Loop Continue"
      ],
      "metadata": {
        "id": "YlkUuKjC-XkE"
      }
    },
    {
      "cell_type": "code",
      "source": [
        "for letter in 'for loop python':\n",
        "\n",
        "  #break the loop as soon it sees 'p'\n",
        "  if letter == 'p':\n",
        "    continue\n",
        "  print('current Letter:', letter)"
      ],
      "metadata": {
        "colab": {
          "base_uri": "https://localhost:8080/"
        },
        "id": "i7XoVC6s-ZvB",
        "outputId": "e64ed93d-82b1-4730-f192-c1ed3d109471"
      },
      "execution_count": null,
      "outputs": [
        {
          "output_type": "stream",
          "name": "stdout",
          "text": [
            "current Letter: f\n",
            "current Letter: o\n",
            "current Letter: r\n",
            "current Letter:  \n",
            "current Letter: l\n",
            "current Letter: o\n",
            "current Letter: o\n",
            "current Letter:  \n",
            "current Letter: y\n",
            "current Letter: t\n",
            "current Letter: h\n",
            "current Letter: o\n",
            "current Letter: n\n"
          ]
        }
      ]
    },
    {
      "cell_type": "markdown",
      "source": [
        "#Loop Pass"
      ],
      "metadata": {
        "id": "NCFChVgmAjUE"
      }
    },
    {
      "cell_type": "code",
      "source": [
        "for letter in \"for loop python\":\n",
        "  pass\n",
        "\n",
        "print(\"Hello from python\")"
      ],
      "metadata": {
        "colab": {
          "base_uri": "https://localhost:8080/"
        },
        "id": "ZkSlE4RwAmJg",
        "outputId": "108347ca-c79a-452f-b447-b11983c57c0e"
      },
      "execution_count": null,
      "outputs": [
        {
          "output_type": "stream",
          "name": "stdout",
          "text": [
            "Hello from python\n"
          ]
        }
      ]
    },
    {
      "cell_type": "markdown",
      "source": [
        "#Build Function in Python"
      ],
      "metadata": {
        "id": "bN59F6yNFV-P"
      }
    },
    {
      "cell_type": "code",
      "source": [
        "mylist = [8,7,6,2,4,9,3]\n",
        "print(\"mylist is\", mylist)\n",
        "print(\"type of mylist is\", type(mylist))\n",
        "print(\"length of mylist is\", len(mylist))\n",
        "\n",
        "\n",
        "print(\"=============================\")\n",
        "print(\"======  ========\")\n",
        "print(\"=========================\")\n",
        "\n",
        "\n",
        "# contoh function kedua\n",
        "print(\"sum of all values\",sum(mylist))\n",
        "print(\"minimum value\",min(mylist))\n",
        "print(\"maximum value\",max(mylist))\n",
        "print(\"sorted list\",sorted(mylist))"
      ],
      "metadata": {
        "colab": {
          "base_uri": "https://localhost:8080/"
        },
        "id": "Jpcd0z6AFYtj",
        "outputId": "cf9976d9-e991-42dc-a722-868174aa35fa"
      },
      "execution_count": null,
      "outputs": [
        {
          "output_type": "stream",
          "name": "stdout",
          "text": [
            "mylist is [8, 7, 6, 2, 4, 9, 3]\n",
            "type of mylist is <class 'list'>\n",
            "length of mylist is 7\n",
            "=============================\n",
            "======  ========\n",
            "=========================\n",
            "sum of all values 39\n",
            "minimum value 2\n",
            "maximum value 9\n",
            "sorted list [2, 3, 4, 6, 7, 8, 9]\n"
          ]
        }
      ]
    },
    {
      "cell_type": "markdown",
      "source": [
        "# Function Generaotor"
      ],
      "metadata": {
        "id": "4LmgEPD1HpO4"
      }
    },
    {
      "cell_type": "code",
      "source": [
        "def simpleGeneratorFun():\n",
        "  yield 1\n",
        "  yield 2\n",
        "  yield 3\n",
        "\n",
        "x = simpleGeneratorFun()\n",
        "print(\"Type of x -\",type(x))\n",
        "\n",
        "print(next(x))\n",
        "print(next(x))\n",
        "print(next(x))"
      ],
      "metadata": {
        "colab": {
          "base_uri": "https://localhost:8080/"
        },
        "id": "muYe_OTWHtNP",
        "outputId": "650126ad-5046-4c53-ac8e-df37ae7f6979"
      },
      "execution_count": null,
      "outputs": [
        {
          "output_type": "stream",
          "name": "stdout",
          "text": [
            "Type of x - <class 'generator'>\n",
            "1\n",
            "2\n",
            "3\n"
          ]
        }
      ]
    },
    {
      "cell_type": "code",
      "source": [
        "class A:\n",
        "  print(\"Inside Class\")\n",
        "\n",
        "A()\n",
        "A()\n",
        "obj=A()"
      ],
      "metadata": {
        "colab": {
          "base_uri": "https://localhost:8080/"
        },
        "id": "rjeP3RKpwN6A",
        "outputId": "c649d7f0-fc84-4fba-eea2-32f292aafbad"
      },
      "execution_count": null,
      "outputs": [
        {
          "output_type": "stream",
          "name": "stdout",
          "text": [
            "Inside Class\n"
          ]
        }
      ]
    },
    {
      "cell_type": "code",
      "source": [
        "def function():\n",
        "  pass\n",
        "function()"
      ],
      "metadata": {
        "id": "jXZkircvxw4p"
      },
      "execution_count": null,
      "outputs": []
    },
    {
      "cell_type": "code",
      "source": [
        "import socket \n",
        "addr = \"127.0.0.2561\"\n",
        "try : \n",
        "  socket.inet_aton(addr)\n",
        "  print(\"valid IP\")\n",
        "except socket.error:\n",
        "  print(\"Invalid IP\")"
      ],
      "metadata": {
        "colab": {
          "base_uri": "https://localhost:8080/"
        },
        "id": "6yYzSpOW2cBi",
        "outputId": "76612086-53e9-4045-b07c-7871399a980d"
      },
      "execution_count": null,
      "outputs": [
        {
          "output_type": "stream",
          "name": "stdout",
          "text": [
            "Invalid IP\n"
          ]
        }
      ]
    }
  ]
}